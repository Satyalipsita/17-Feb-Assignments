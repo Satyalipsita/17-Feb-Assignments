{
 "cells": [
  {
   "cell_type": "code",
   "execution_count": null,
   "id": "874a5a67-7835-43ea-ac76-cfb8fffbe497",
   "metadata": {},
   "outputs": [],
   "source": [
    "# Q-1:MongoDB is a document-based, non-relational database management system.Another name for it is an object-based system.\n",
    "     and A table-based system is MySQL (or open-source relational database). The table-based architecture, which is regarded as a SQL database, is the data query structure for search.\n",
    "    For using cloud computing. MongoDB is ideal for cloud computing than SQL.\n",
    "    \n",
    " #Q-2:   Features of mongoDB\n",
    "        1.Ad-hoc queries for optimized, real-time analytics. ...\n",
    "         2.Indexing appropriately for better query executions. ...\n",
    "         3. Replication for better data availability and stability. ...\n",
    "         4.Sharding. ...\n",
    "          5.Load balancing.\n",
    "            \n",
    "            \n",
    " #Q-3:           \n",
    "\n"
   ]
  }
 ],
 "metadata": {
  "kernelspec": {
   "display_name": "Python 3 (ipykernel)",
   "language": "python",
   "name": "python3"
  },
  "language_info": {
   "codemirror_mode": {
    "name": "ipython",
    "version": 3
   },
   "file_extension": ".py",
   "mimetype": "text/x-python",
   "name": "python",
   "nbconvert_exporter": "python",
   "pygments_lexer": "ipython3",
   "version": "3.10.8"
  }
 },
 "nbformat": 4,
 "nbformat_minor": 5
}
