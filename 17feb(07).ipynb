{
 "cells": [
  {
   "cell_type": "code",
   "execution_count": null,
   "id": "a32b8e47-0203-4ce5-8a62-3f2adcf40945",
   "metadata": {},
   "outputs": [],
   "source": [
    "db.collection.deleteOne()\n",
    " # it will delete single data\n",
    "    where delete many will delete many entries\n",
    "    and drop will drop the c"
   ]
  }
 ],
 "metadata": {
  "kernelspec": {
   "display_name": "Python 3 (ipykernel)",
   "language": "python",
   "name": "python3"
  },
  "language_info": {
   "codemirror_mode": {
    "name": "ipython",
    "version": 3
   },
   "file_extension": ".py",
   "mimetype": "text/x-python",
   "name": "python",
   "nbconvert_exporter": "python",
   "pygments_lexer": "ipython3",
   "version": "3.10.8"
  }
 },
 "nbformat": 4,
 "nbformat_minor": 5
}
